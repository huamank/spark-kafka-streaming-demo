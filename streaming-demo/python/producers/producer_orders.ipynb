{
 "cells": [
  {
   "cell_type": "code",
   "execution_count": null,
   "id": "8f71e548-f268-49c9-a96b-4e6916b2853d",
   "metadata": {},
   "outputs": [],
   "source": [
    "!pip install kafka-python==2.0.2"
   ]
  },
  {
   "cell_type": "code",
   "execution_count": null,
   "id": "5fea4d5c-dec2-4d3e-99fb-9ac11066948b",
   "metadata": {},
   "outputs": [],
   "source": [
    "import json, os, random, time\n",
    "from datetime import datetime, timezone\n",
    "from kafka import KafkaProducer\n",
    "\n",
    "bootstrap = os.getenv(\"KAFKA_BOOTSTRAP\", \"kafka:9092\")\n",
    "topic     = os.getenv(\"TOPIC\", \"orders\")\n",
    "rate      = float(os.getenv(\"RATE_PER_SEC\", \"3\"))\n",
    "\n",
    "producer = KafkaProducer(\n",
    "    bootstrap_servers=bootstrap,\n",
    "    value_serializer=lambda v: json.dumps(v).encode(\"utf-8\"),\n",
    "    linger_ms=5,\n",
    ")\n",
    "\n",
    "order_id = 1\n",
    "states = [\"new\", \"paid\", \"shipped\", \"cancelled\"]\n",
    "customers = list(range(1001, 1011))\n",
    "\n",
    "print(f\"Sending events to {bootstrap} topic={topic} at {rate} evt/s\")\n",
    "\n",
    "while True:\n",
    "    evt = {\n",
    "        \"order_id\": order_id,\n",
    "        \"customer_id\": random.choice(customers),\n",
    "        \"amount\": round(random.uniform(5, 500), 2),\n",
    "        \"status\": random.choice(states),\n",
    "        \"event_time\": datetime.now(timezone.utc).isoformat(),\n",
    "    }\n",
    "    producer.send(topic, value=evt)\n",
    "    order_id += 1\n",
    "    print(f\"Send event: {evt}\")\n",
    "    time.sleep(5) # Enviara los eventos de orden cada 5 seg"
   ]
  },
  {
   "cell_type": "code",
   "execution_count": null,
   "id": "293a4c38-70f9-4a60-8f70-271bf29b5539",
   "metadata": {},
   "outputs": [],
   "source": []
  }
 ],
 "metadata": {
  "kernelspec": {
   "display_name": "Python 3 (ipykernel)",
   "language": "python",
   "name": "python3"
  },
  "language_info": {
   "codemirror_mode": {
    "name": "ipython",
    "version": 3
   },
   "file_extension": ".py",
   "mimetype": "text/x-python",
   "name": "python",
   "nbconvert_exporter": "python",
   "pygments_lexer": "ipython3",
   "version": "3.9.23"
  }
 },
 "nbformat": 4,
 "nbformat_minor": 5
}
